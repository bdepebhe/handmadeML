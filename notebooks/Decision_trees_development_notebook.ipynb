{
 "cells": [
  {
   "cell_type": "code",
   "execution_count": 76,
   "id": "turned-clearance",
   "metadata": {
    "ExecuteTime": {
     "end_time": "2021-03-21T07:04:22.033091Z",
     "start_time": "2021-03-21T07:04:22.029913Z"
    }
   },
   "outputs": [],
   "source": [
    "import numpy as np\n",
    "import pandas as pd"
   ]
  },
  {
   "cell_type": "code",
   "execution_count": 38,
   "id": "front-speech",
   "metadata": {
    "ExecuteTime": {
     "end_time": "2021-03-20T20:35:45.585734Z",
     "start_time": "2021-03-20T20:35:45.576079Z"
    }
   },
   "outputs": [],
   "source": [
    "class DecisionTreeClassifier():\n",
    "\n",
    "    def __init__(self, min_samples_split):\n",
    "        self.min_samples_split=min_samples_split\n",
    "        self.tree={'level':0,\n",
    "                   'type':'root',\n",
    "                   'feature':None,\n",
    "                   'threshold':None,\n",
    "                   'left':None,\n",
    "                   'right':None,\n",
    "                   }\n",
    "    \n",
    "    def fit(self, X_train, y_train):\n",
    "        def node_construction(subtree,subX,suby):\n",
    "            'modify tree ? to be tested'\n",
    "            splits={}\n",
    "            for index,col in subX.iteritems():\n",
    "                splits[index]=np.sort(col.sample(1000,replace=True).unique())\n",
    "                splits[index]=list((splits[index][1:]+splits[index][:-1])/2)\n",
    "            splits=[[(key,threshold) for threshold in value] for key,value in splits.items()]\n",
    "            splits=[y for x in splits for y in x]\n",
    "\n",
    "            for split in splits:\n",
    "                mask=subX[split[0]]>split[1]\n",
    "                y_left=suby[mask]\n",
    "                y_right=suby[-mask]\n",
    "                \n",
    "        node_construction(self.tree, X_train, y_train, min_samples_split=self.min_samples_split)\n",
    "\n",
    "    def predict(self, X_test):\n",
    "        def node_navigation(subtree, X_sample):\n",
    "            '''X_sample : df with a single line'''\n",
    "            if tree['type']=='leaf':\n",
    "                return subtree['category']\n",
    "            if X_sample[subtree['feature']]>subtree['threshold']:\n",
    "                return node_navigation(subtree['right'], X_sample)\n",
    "            return node_navigation(subtree['left'], X_sample)\n",
    "\n",
    "        return X.apply(lambda x: node_navigation(self.tree, x), axis=1)"
   ]
  },
  {
   "cell_type": "code",
   "execution_count": 39,
   "id": "terminal-annual",
   "metadata": {
    "ExecuteTime": {
     "end_time": "2021-03-20T20:35:45.950426Z",
     "start_time": "2021-03-20T20:35:45.944756Z"
    }
   },
   "outputs": [],
   "source": [
    "dtc=DecisionTreeClassifier(min_samples_split=10)\n",
    "dtc.tree={'level': 0,\n",
    " 'type': 'root',\n",
    " 'feature': 'aa',\n",
    " 'threshold': 0.5,\n",
    " 'left': None,\n",
    " 'right': None}"
   ]
  },
  {
   "cell_type": "code",
   "execution_count": 40,
   "id": "studied-career",
   "metadata": {
    "ExecuteTime": {
     "end_time": "2021-03-20T20:35:46.674268Z",
     "start_time": "2021-03-20T20:35:46.668201Z"
    }
   },
   "outputs": [],
   "source": [
    "dtc.tree['left']={'level': 1,\n",
    "                 'type': 'root',\n",
    "                 'feature': 'aa',\n",
    "                 'threshold': 0.25,\n",
    "                 'left': {'level':2,'type':'leaf','category':1},\n",
    "                 'right': {'level':2,'type':'leaf','category':0}}\n",
    "dtc.tree['right']={'level':1,\n",
    "                  'type':'leaf',\n",
    "                  'category':1}"
   ]
  },
  {
   "cell_type": "code",
   "execution_count": 95,
   "id": "separated-plaintiff",
   "metadata": {
    "ExecuteTime": {
     "end_time": "2021-03-21T07:21:55.322742Z",
     "start_time": "2021-03-21T07:21:55.317169Z"
    }
   },
   "outputs": [],
   "source": [
    "X_test=pd.DataFrame({'aa':[0.1,0.2,0.7],'bb':[1,0,1],'cc':[1,1,1]})"
   ]
  },
  {
   "cell_type": "code",
   "execution_count": 96,
   "id": "toxic-works",
   "metadata": {
    "ExecuteTime": {
     "end_time": "2021-03-21T07:21:55.806231Z",
     "start_time": "2021-03-21T07:21:55.798486Z"
    }
   },
   "outputs": [
    {
     "data": {
      "text/plain": [
       "0    1\n",
       "1    1\n",
       "2    1\n",
       "dtype: int64"
      ]
     },
     "execution_count": 96,
     "metadata": {},
     "output_type": "execute_result"
    }
   ],
   "source": [
    "dtc.predict(X_test)"
   ]
  },
  {
   "cell_type": "code",
   "execution_count": 97,
   "id": "saving-newspaper",
   "metadata": {
    "ExecuteTime": {
     "end_time": "2021-03-21T07:21:56.271944Z",
     "start_time": "2021-03-21T07:21:56.260002Z"
    }
   },
   "outputs": [
    {
     "data": {
      "text/html": [
       "<div>\n",
       "<style scoped>\n",
       "    .dataframe tbody tr th:only-of-type {\n",
       "        vertical-align: middle;\n",
       "    }\n",
       "\n",
       "    .dataframe tbody tr th {\n",
       "        vertical-align: top;\n",
       "    }\n",
       "\n",
       "    .dataframe thead th {\n",
       "        text-align: right;\n",
       "    }\n",
       "</style>\n",
       "<table border=\"1\" class=\"dataframe\">\n",
       "  <thead>\n",
       "    <tr style=\"text-align: right;\">\n",
       "      <th></th>\n",
       "      <th>aa</th>\n",
       "      <th>bb</th>\n",
       "      <th>cc</th>\n",
       "    </tr>\n",
       "  </thead>\n",
       "  <tbody>\n",
       "    <tr>\n",
       "      <th>0</th>\n",
       "      <td>0.1</td>\n",
       "      <td>1</td>\n",
       "      <td>1</td>\n",
       "    </tr>\n",
       "    <tr>\n",
       "      <th>1</th>\n",
       "      <td>0.2</td>\n",
       "      <td>0</td>\n",
       "      <td>1</td>\n",
       "    </tr>\n",
       "    <tr>\n",
       "      <th>2</th>\n",
       "      <td>0.7</td>\n",
       "      <td>1</td>\n",
       "      <td>1</td>\n",
       "    </tr>\n",
       "  </tbody>\n",
       "</table>\n",
       "</div>"
      ],
      "text/plain": [
       "    aa  bb  cc\n",
       "0  0.1   1   1\n",
       "1  0.2   0   1\n",
       "2  0.7   1   1"
      ]
     },
     "execution_count": 97,
     "metadata": {},
     "output_type": "execute_result"
    }
   ],
   "source": [
    "X_test"
   ]
  },
  {
   "cell_type": "code",
   "execution_count": 105,
   "id": "fitting-confusion",
   "metadata": {
    "ExecuteTime": {
     "end_time": "2021-03-21T08:31:06.818670Z",
     "start_time": "2021-03-21T08:31:06.806669Z"
    }
   },
   "outputs": [
    {
     "data": {
      "text/plain": [
       "{'aa': [0.15000000000000002, 0.44999999999999996], 'bb': [0.5], 'cc': []}"
      ]
     },
     "execution_count": 105,
     "metadata": {},
     "output_type": "execute_result"
    }
   ],
   "source": [
    "splits={}\n",
    "for index,col in X_test.iteritems():\n",
    "    splits[index]=np.sort(col.sample(1000,replace=True).unique())\n",
    "    splits[index]=list((splits[index][1:]+splits[index][:-1])/2)\n",
    "splits"
   ]
  },
  {
   "cell_type": "code",
   "execution_count": 106,
   "id": "gentle-survivor",
   "metadata": {
    "ExecuteTime": {
     "end_time": "2021-03-21T08:31:07.603284Z",
     "start_time": "2021-03-21T08:31:07.596290Z"
    }
   },
   "outputs": [
    {
     "data": {
      "text/plain": [
       "[('aa', 0.15000000000000002), ('aa', 0.44999999999999996), ('bb', 0.5)]"
      ]
     },
     "execution_count": 106,
     "metadata": {},
     "output_type": "execute_result"
    }
   ],
   "source": [
    "splits=[[(key,threshold) for threshold in value] for key,value in splits.items()]\n",
    "splits=[y for x in splits for y in x]\n",
    "splits"
   ]
  },
  {
   "cell_type": "code",
   "execution_count": 64,
   "id": "polar-liechtenstein",
   "metadata": {
    "ExecuteTime": {
     "end_time": "2021-03-21T07:01:22.097455Z",
     "start_time": "2021-03-21T07:01:22.089613Z"
    }
   },
   "outputs": [
    {
     "data": {
      "text/plain": [
       "0    4\n",
       "1    2\n",
       "2    3\n",
       "3    4\n",
       "dtype: int64"
      ]
     },
     "execution_count": 64,
     "metadata": {},
     "output_type": "execute_result"
    }
   ],
   "source": [
    "ser=pd.Series([4,2,3,4])\n",
    "ser"
   ]
  },
  {
   "cell_type": "code",
   "execution_count": 83,
   "id": "first-reply",
   "metadata": {
    "ExecuteTime": {
     "end_time": "2021-03-21T07:16:13.648580Z",
     "start_time": "2021-03-21T07:16:13.638794Z"
    }
   },
   "outputs": [
    {
     "data": {
      "text/plain": [
       "array([2, 4, 4, 2, 2, 3])"
      ]
     },
     "execution_count": 83,
     "metadata": {},
     "output_type": "execute_result"
    }
   ],
   "source": [
    "np.random.choice(ser.unique(),6)"
   ]
  },
  {
   "cell_type": "code",
   "execution_count": 89,
   "id": "included-acrylic",
   "metadata": {
    "ExecuteTime": {
     "end_time": "2021-03-21T07:18:23.350208Z",
     "start_time": "2021-03-21T07:18:23.342912Z"
    }
   },
   "outputs": [
    {
     "data": {
      "text/plain": [
       "array([2, 3, 4])"
      ]
     },
     "execution_count": 89,
     "metadata": {},
     "output_type": "execute_result"
    }
   ],
   "source": [
    "np.sort(ser.sample(1000,replace=True).unique())"
   ]
  },
  {
   "cell_type": "code",
   "execution_count": 77,
   "id": "laden-speaking",
   "metadata": {
    "ExecuteTime": {
     "end_time": "2021-03-21T07:04:24.448090Z",
     "start_time": "2021-03-21T07:04:24.444082Z"
    }
   },
   "outputs": [],
   "source": [
    "npp=np.sort(ser.unique())"
   ]
  },
  {
   "cell_type": "code",
   "execution_count": 78,
   "id": "assisted-probe",
   "metadata": {
    "ExecuteTime": {
     "end_time": "2021-03-21T07:04:27.765084Z",
     "start_time": "2021-03-21T07:04:27.759564Z"
    }
   },
   "outputs": [
    {
     "data": {
      "text/plain": [
       "array([2, 3, 4])"
      ]
     },
     "execution_count": 78,
     "metadata": {},
     "output_type": "execute_result"
    }
   ],
   "source": [
    "npp"
   ]
  },
  {
   "cell_type": "code",
   "execution_count": 80,
   "id": "sunrise-ballet",
   "metadata": {
    "ExecuteTime": {
     "end_time": "2021-03-21T07:10:30.867629Z",
     "start_time": "2021-03-21T07:10:30.861383Z"
    }
   },
   "outputs": [
    {
     "data": {
      "text/plain": [
       "array([2.5, 3.5])"
      ]
     },
     "execution_count": 80,
     "metadata": {},
     "output_type": "execute_result"
    }
   ],
   "source": [
    "(npp[1:]+npp[:-1])/2"
   ]
  },
  {
   "cell_type": "code",
   "execution_count": 107,
   "id": "intelligent-indiana",
   "metadata": {
    "ExecuteTime": {
     "end_time": "2021-03-21T08:55:38.643035Z",
     "start_time": "2021-03-21T08:55:38.628204Z"
    }
   },
   "outputs": [
    {
     "data": {
      "text/html": [
       "<div>\n",
       "<style scoped>\n",
       "    .dataframe tbody tr th:only-of-type {\n",
       "        vertical-align: middle;\n",
       "    }\n",
       "\n",
       "    .dataframe tbody tr th {\n",
       "        vertical-align: top;\n",
       "    }\n",
       "\n",
       "    .dataframe thead th {\n",
       "        text-align: right;\n",
       "    }\n",
       "</style>\n",
       "<table border=\"1\" class=\"dataframe\">\n",
       "  <thead>\n",
       "    <tr style=\"text-align: right;\">\n",
       "      <th></th>\n",
       "      <th>aa</th>\n",
       "      <th>bb</th>\n",
       "      <th>cc</th>\n",
       "    </tr>\n",
       "  </thead>\n",
       "  <tbody>\n",
       "    <tr>\n",
       "      <th>0</th>\n",
       "      <td>0.1</td>\n",
       "      <td>1</td>\n",
       "      <td>1</td>\n",
       "    </tr>\n",
       "    <tr>\n",
       "      <th>1</th>\n",
       "      <td>0.2</td>\n",
       "      <td>0</td>\n",
       "      <td>1</td>\n",
       "    </tr>\n",
       "    <tr>\n",
       "      <th>2</th>\n",
       "      <td>0.7</td>\n",
       "      <td>1</td>\n",
       "      <td>1</td>\n",
       "    </tr>\n",
       "  </tbody>\n",
       "</table>\n",
       "</div>"
      ],
      "text/plain": [
       "    aa  bb  cc\n",
       "0  0.1   1   1\n",
       "1  0.2   0   1\n",
       "2  0.7   1   1"
      ]
     },
     "execution_count": 107,
     "metadata": {},
     "output_type": "execute_result"
    }
   ],
   "source": [
    "X_test"
   ]
  },
  {
   "cell_type": "code",
   "execution_count": 109,
   "id": "minus-assistant",
   "metadata": {
    "ExecuteTime": {
     "end_time": "2021-03-21T08:56:37.924022Z",
     "start_time": "2021-03-21T08:56:37.919062Z"
    }
   },
   "outputs": [],
   "source": [
    "y_test=pd.DataFrame({'target':[0,0,1]})"
   ]
  },
  {
   "cell_type": "code",
   "execution_count": 110,
   "id": "sufficient-judges",
   "metadata": {
    "ExecuteTime": {
     "end_time": "2021-03-21T08:56:43.447721Z",
     "start_time": "2021-03-21T08:56:43.437584Z"
    }
   },
   "outputs": [
    {
     "data": {
      "text/html": [
       "<div>\n",
       "<style scoped>\n",
       "    .dataframe tbody tr th:only-of-type {\n",
       "        vertical-align: middle;\n",
       "    }\n",
       "\n",
       "    .dataframe tbody tr th {\n",
       "        vertical-align: top;\n",
       "    }\n",
       "\n",
       "    .dataframe thead th {\n",
       "        text-align: right;\n",
       "    }\n",
       "</style>\n",
       "<table border=\"1\" class=\"dataframe\">\n",
       "  <thead>\n",
       "    <tr style=\"text-align: right;\">\n",
       "      <th></th>\n",
       "      <th>target</th>\n",
       "    </tr>\n",
       "  </thead>\n",
       "  <tbody>\n",
       "    <tr>\n",
       "      <th>0</th>\n",
       "      <td>0</td>\n",
       "    </tr>\n",
       "    <tr>\n",
       "      <th>1</th>\n",
       "      <td>0</td>\n",
       "    </tr>\n",
       "    <tr>\n",
       "      <th>2</th>\n",
       "      <td>1</td>\n",
       "    </tr>\n",
       "  </tbody>\n",
       "</table>\n",
       "</div>"
      ],
      "text/plain": [
       "   target\n",
       "0       0\n",
       "1       0\n",
       "2       1"
      ]
     },
     "execution_count": 110,
     "metadata": {},
     "output_type": "execute_result"
    }
   ],
   "source": [
    "y_test"
   ]
  },
  {
   "cell_type": "code",
   "execution_count": 115,
   "id": "dated-premium",
   "metadata": {
    "ExecuteTime": {
     "end_time": "2021-03-21T08:59:52.129311Z",
     "start_time": "2021-03-21T08:59:52.125098Z"
    }
   },
   "outputs": [],
   "source": [
    "mask=X_test['aa']>0.5"
   ]
  },
  {
   "cell_type": "code",
   "execution_count": 116,
   "id": "hispanic-louisiana",
   "metadata": {
    "ExecuteTime": {
     "end_time": "2021-03-21T08:59:56.589261Z",
     "start_time": "2021-03-21T08:59:56.580767Z"
    }
   },
   "outputs": [
    {
     "data": {
      "text/plain": [
       "0     True\n",
       "1     True\n",
       "2    False\n",
       "Name: aa, dtype: bool"
      ]
     },
     "execution_count": 116,
     "metadata": {},
     "output_type": "execute_result"
    }
   ],
   "source": [
    "-mask"
   ]
  },
  {
   "cell_type": "code",
   "execution_count": 117,
   "id": "alpha-sunset",
   "metadata": {
    "ExecuteTime": {
     "end_time": "2021-03-21T08:59:59.634927Z",
     "start_time": "2021-03-21T08:59:59.628448Z"
    }
   },
   "outputs": [
    {
     "data": {
      "text/plain": [
       "0    False\n",
       "1    False\n",
       "2     True\n",
       "Name: aa, dtype: bool"
      ]
     },
     "execution_count": 117,
     "metadata": {},
     "output_type": "execute_result"
    }
   ],
   "source": [
    "mask"
   ]
  },
  {
   "cell_type": "code",
   "execution_count": null,
   "id": "automated-johnston",
   "metadata": {},
   "outputs": [],
   "source": []
  }
 ],
 "metadata": {
  "kernelspec": {
   "display_name": "Python 3",
   "language": "python",
   "name": "python3"
  },
  "language_info": {
   "codemirror_mode": {
    "name": "ipython",
    "version": 3
   },
   "file_extension": ".py",
   "mimetype": "text/x-python",
   "name": "python",
   "nbconvert_exporter": "python",
   "pygments_lexer": "ipython3",
   "version": "3.8.6"
  },
  "toc": {
   "base_numbering": 1,
   "nav_menu": {},
   "number_sections": true,
   "sideBar": true,
   "skip_h1_title": false,
   "title_cell": "Table of Contents",
   "title_sidebar": "Contents",
   "toc_cell": false,
   "toc_position": {},
   "toc_section_display": true,
   "toc_window_display": false
  },
  "varInspector": {
   "cols": {
    "lenName": 16,
    "lenType": 16,
    "lenVar": 40
   },
   "kernels_config": {
    "python": {
     "delete_cmd_postfix": "",
     "delete_cmd_prefix": "del ",
     "library": "var_list.py",
     "varRefreshCmd": "print(var_dic_list())"
    },
    "r": {
     "delete_cmd_postfix": ") ",
     "delete_cmd_prefix": "rm(",
     "library": "var_list.r",
     "varRefreshCmd": "cat(var_dic_list()) "
    }
   },
   "types_to_exclude": [
    "module",
    "function",
    "builtin_function_or_method",
    "instance",
    "_Feature"
   ],
   "window_display": false
  }
 },
 "nbformat": 4,
 "nbformat_minor": 5
}
